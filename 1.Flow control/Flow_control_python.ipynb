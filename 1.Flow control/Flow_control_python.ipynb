{
  "cells": [
    {
      "cell_type": "markdown",
      "metadata": {
        "id": "617934d1"
      },
      "source": [
        "# 🌟 Flow Control in Python\n",
        "This notebook covers examples of flow control structures in Python, such as conditionals and loops.\n",
        "---"
      ]
    },
    {
      "cell_type": "markdown",
      "metadata": {
        "id": "wwP4RUq2dCih"
      },
      "source": [
        "**`Title: Mastering Control Structures, Loops, and Operators in Python`**"
      ]
    },
    {
      "cell_type": "markdown",
      "metadata": {
        "id": "hMJHd4Ubdy-d"
      },
      "source": [
        "**Task 1: Write a Python program to find the largest of three numbers.**"
      ]
    },
    {
      "cell_type": "code",
      "execution_count": null,
      "metadata": {
        "colab": {
          "base_uri": "https://localhost:8080/"
        },
        "id": "AMcKPyQtd18z",
        "outputId": "21665e78-54df-477f-9611-ac3684033c55"
      },
      "outputs": [
        {
          "name": "stdout",
          "output_type": "stream",
          "text": [
            "Enter the first number: 10\n",
            "Enter the second number: 60\n",
            "Enter the third number: 40\n",
            "The largest number is: 60\n"
          ]
        }
      ],
      "source": [
        "# Taking input from users.\n",
        "a = int(input(\"Enter the first number: \"))\n",
        "b = int(input(\"Enter the second number: \"))\n",
        "c = int(input(\"Enter the third number: \"))\n",
        "\n",
        "# using if-elif-else to find the largest number.\n",
        "if a >= b and a >=c:\n",
        "  print(\"The largest number is:\", a)\n",
        "elif b >= a and b >= c:\n",
        "  print(\"The largest number is:\", b)\n",
        "else:\n",
        "  print(\"The largest number is:\", c)"
      ]
    },
    {
      "cell_type": "markdown",
      "metadata": {
        "id": "whiQ6nZ_ggcY"
      },
      "source": [
        "**Task 2: Create a program that checks if a number is even or odd.**"
      ]
    },
    {
      "cell_type": "code",
      "execution_count": null,
      "metadata": {
        "colab": {
          "base_uri": "https://localhost:8080/"
        },
        "id": "6ITxHT6sgrFN",
        "outputId": "d93a56d0-355c-495b-c674-9e24d5e3c74b"
      },
      "outputs": [
        {
          "name": "stdout",
          "output_type": "stream",
          "text": [
            "Enter a number:10\n",
            "10 is an even number\n"
          ]
        }
      ],
      "source": [
        "# Taking input from users.\n",
        "\n",
        "num = int(input(\"Enter a number:\"))\n",
        "\n",
        "# Using if-else to check even or odd.\n",
        "\n",
        "if num % 2 == 0:\n",
        "  print(num,\"is an even number\")\n",
        "else:\n",
        "  print(num,\"is an odd number\")"
      ]
    },
    {
      "cell_type": "markdown",
      "metadata": {
        "id": "NndBSaKWidMm"
      },
      "source": [
        "**Task 3: Write a program that prints numbers from 1 to 100 but skips numbers divisible by 7.**"
      ]
    },
    {
      "cell_type": "code",
      "execution_count": null,
      "metadata": {
        "colab": {
          "base_uri": "https://localhost:8080/"
        },
        "id": "PyBv6Q9vioNq",
        "outputId": "ea0a5bbd-8a21-4481-caba-b8e2349d16d6"
      },
      "outputs": [
        {
          "name": "stdout",
          "output_type": "stream",
          "text": [
            "1,2,3,4,5,6,8,9,10,11,12,13,15,16,17,18,19,20,22,23,24,25,26,27,29,30,31,32,33,34,36,37,38,39,40,41,43,44,45,46,47,48,50,51,52,53,54,55,57,58,59,60,61,62,64,65,66,67,68,69,71,72,73,74,75,76,78,79,80,81,82,83,85,86,87,88,89,90,92,93,94,95,96,97,99,100,"
          ]
        }
      ],
      "source": [
        "for num in range(1,101):\n",
        "  if num % 7 == 0:  #  checks if the number is divisible by 7\n",
        "    continue  # skip this number\n",
        "  print(num,end=',')"
      ]
    },
    {
      "cell_type": "markdown",
      "metadata": {
        "id": "Lky66pz7xtMV"
      },
      "source": [
        "**Task 4: Write a program to print the multiplication table of a given number.**"
      ]
    },
    {
      "cell_type": "code",
      "execution_count": null,
      "metadata": {
        "colab": {
          "base_uri": "https://localhost:8080/"
        },
        "id": "RQ3ZxjBBxxB1",
        "outputId": "25aef782-d952-4028-e50f-2cd7f38e3a0f"
      },
      "outputs": [
        {
          "name": "stdout",
          "output_type": "stream",
          "text": [
            "enter a number:6\n",
            "6 x 1 = 6\n",
            "6 x 2 = 12\n",
            "6 x 3 = 18\n",
            "6 x 4 = 24\n",
            "6 x 5 = 30\n",
            "6 x 6 = 36\n",
            "6 x 7 = 42\n",
            "6 x 8 = 48\n",
            "6 x 9 = 54\n",
            "6 x 10 = 60\n"
          ]
        }
      ],
      "source": [
        "num = int(input(\"enter a number:\"))\n",
        "\n",
        "for i in range(1,11):\n",
        "  print(num,\"x\",i,\"=\",num*i)"
      ]
    },
    {
      "cell_type": "markdown",
      "metadata": {
        "id": "_gyTXKMPzsi8"
      },
      "source": [
        "**Task 5: Write a program that uses a nested loop to print a right-angled triangle pattern of stars based on user input.**"
      ]
    },
    {
      "cell_type": "code",
      "execution_count": null,
      "metadata": {
        "colab": {
          "base_uri": "https://localhost:8080/"
        },
        "id": "4VTkWI29z4OQ",
        "outputId": "90f3a619-664c-4cb4-da3a-d13e1d713fe3"
      },
      "outputs": [
        {
          "name": "stdout",
          "output_type": "stream",
          "text": [
            "Enter the number of rows:5\n",
            "*\n",
            "**\n",
            "***\n",
            "****\n",
            "*****\n"
          ]
        }
      ],
      "source": [
        "rows = int(input(\"Enter the number of rows:\"))\n",
        "\n",
        "for i in range(1,rows+1): # outer loop rows\n",
        "  for j in range(i):      #inner loop for *\n",
        "    print(\"*\", end=\"\")\n",
        "  print()"
      ]
    },
    {
      "cell_type": "markdown",
      "metadata": {
        "id": "XBfjmevlF0be"
      },
      "source": [
        "**Task 6: Create a Python program that prints the following pattern using nested\n",
        "loops:**\n",
        "```\n",
        "1\n",
        "12\n",
        "123\n",
        "1234\n",
        "```"
      ]
    },
    {
      "cell_type": "code",
      "execution_count": null,
      "metadata": {
        "colab": {
          "base_uri": "https://localhost:8080/"
        },
        "id": "Od4p9ItxF6vU",
        "outputId": "e599e370-5a14-4cba-87cf-cfb4b07a480f"
      },
      "outputs": [
        {
          "name": "stdout",
          "output_type": "stream",
          "text": [
            "1\n",
            "12\n",
            "123\n",
            "1234\n"
          ]
        }
      ],
      "source": [
        "for i in range(1,5):\n",
        "  for j in range(1, i+1):\n",
        "    print(j,end='')\n",
        "\n",
        "  print()"
      ]
    },
    {
      "cell_type": "markdown",
      "metadata": {
        "id": "6wWnQlKQMuiK"
      },
      "source": [
        "**Task 7: Create a Python program to check if a character entered by the user is a vowel or consonant.**"
      ]
    },
    {
      "cell_type": "code",
      "execution_count": null,
      "metadata": {
        "colab": {
          "base_uri": "https://localhost:8080/"
        },
        "id": "eMl_W-ZrN4Ha",
        "outputId": "04c3c021-d18e-474f-9a88-c4a74a9ff136"
      },
      "outputs": [
        {
          "name": "stdout",
          "output_type": "stream",
          "text": [
            "Enter a single charcter: r\n",
            "r is a consonent.\n"
          ]
        }
      ],
      "source": [
        "# Input from users\n",
        "char = input(\"Enter a single charcter: \").lower() # lower handle both uppercase and lowercase input.\n",
        "\n",
        "# check if the input is a single character\n",
        "if len(char) == 1 and char.isalpha():\n",
        "  if char in 'aeiou':\n",
        "    print(f\"{char} is a vowel.\")\n",
        "  else:\n",
        "    print(f\"{char} is a consonent.\")\n",
        "else:\n",
        "  print(\"Invalid input. Please enter a single alphabet character.\")"
      ]
    },
    {
      "cell_type": "markdown",
      "metadata": {
        "id": "EACREcukYDwH"
      },
      "source": [
        "## 🔷 Task 8: Diamond Pattern Generator\n",
        "Write a Python program that generates a diamond-shaped star pattern.\n",
        "\n",
        "**Example Output (n = 5):**\n",
        "```\n",
        "*\n",
        "***\n",
        "*****\n",
        "*******\n",
        "*********\n",
        "*******\n",
        "*****\n",
        "***\n",
        "*\n",
        "```\n"
      ]
    },
    {
      "cell_type": "code",
      "execution_count": 2,
      "metadata": {
        "colab": {
          "base_uri": "https://localhost:8080/",
          "height": 0
        },
        "id": "kglgz3Sqe1tO",
        "outputId": "f8b9dc3a-41aa-4c42-b951-e248e5ff0974"
      },
      "outputs": [
        {
          "output_type": "stream",
          "name": "stdout",
          "text": [
            "    *\n",
            "   ***\n",
            "  *****\n",
            " *******\n",
            "*********\n",
            " *******\n",
            "  *****\n",
            "   ***\n",
            "    *\n"
          ]
        }
      ],
      "source": [
        "n = 5\n",
        "\n",
        "#Top half of diamond\n",
        "for i in range(1, n +1):\n",
        "  spaces = n - i        # spaces before stars\n",
        "  stars = 2 * i -1      # odd number of stars (1,3,5,..)\n",
        "  print(\" \" * spaces + \"*\" * stars)    #print the rows\n",
        "\n",
        "# Bottom half of the diamond\n",
        "for i in range(n -1, 0, -1):\n",
        "  spaces = n - i\n",
        "  stars = 2 * i -1\n",
        "  print(\" \" * spaces + \"*\" * stars)"
      ]
    },
    {
      "cell_type": "markdown",
      "metadata": {
        "id": "t-foZbKkh2K-"
      },
      "source": [
        "**Task 9: Write a Python program to reverse the digits of a given number.**"
      ]
    },
    {
      "cell_type": "code",
      "execution_count": 3,
      "metadata": {
        "colab": {
          "base_uri": "https://localhost:8080/",
          "height": 0
        },
        "id": "UieP-z8mhRox",
        "outputId": "9462f893-f056-4506-e3f4-8c30eeb72555"
      },
      "outputs": [
        {
          "output_type": "stream",
          "name": "stdout",
          "text": [
            "Enter the number:98765\n",
            "Reversed Number: 56789\n"
          ]
        }
      ],
      "source": [
        "# Input from users\n",
        "num = int(input(\"Enter the number:\"))\n",
        "\n",
        "# Initialize reversed number to 0\n",
        "reversed_num = 0\n",
        "\n",
        "# using a loop to reverse the digits\n",
        "while num != 0:\n",
        "    digit = num % 10                         # Gets the last digit of num (e.g., 123 % 10 = 3)\n",
        "    reversed_num = reversed_num * 10 + digit # Shift reversed_num left and add digit\n",
        "    num = num // 10                          #Remove the last digit from num (e.g., 123 // 10 = 12)\n",
        "\n",
        "print(\"Reversed Number:\",reversed_num)"
      ]
    },
    {
      "cell_type": "markdown",
      "metadata": {
        "id": "kizZqcshRQGh"
      },
      "source": [
        "**Task 10. Create a Python program that generates the following pyramid pattern:**\n",
        "```\n",
        "1\n",
        "121\n",
        "12321\n",
        "1234321\n",
        "123454321\n",
        "```"
      ]
    },
    {
      "cell_type": "code",
      "execution_count": null,
      "metadata": {
        "colab": {
          "base_uri": "https://localhost:8080/"
        },
        "id": "OPWZmXblRkc6",
        "outputId": "4cf93d1a-4def-4bd4-fa5b-e97a747749e3"
      },
      "outputs": [
        {
          "name": "stdout",
          "output_type": "stream",
          "text": [
            "1\n",
            "121\n",
            "12321\n",
            "1234321\n",
            "123454321\n"
          ]
        }
      ],
      "source": [
        "n = 5  # Number of rows\n",
        "\n",
        "for i in range(1, n + 1):\n",
        "    # First half: increasing numbers from 1 to i\n",
        "    for j in range(1, i + 1):\n",
        "        print(j, end='')\n",
        "\n",
        "    # Second half: decreasing numbers from i-1 to 1\n",
        "    for j in range(i - 1, 0, -1):\n",
        "        print(j, end='')\n",
        "\n",
        "    print()  # Move to the next line"
      ]
    },
    {
      "cell_type": "code",
      "execution_count": 5,
      "metadata": {
        "id": "8P3_QOW-TVF2",
        "colab": {
          "base_uri": "https://localhost:8080/",
          "height": 0
        },
        "outputId": "c0f2a942-bad1-4cc5-9ae4-5aa51204a973"
      },
      "outputs": [
        {
          "output_type": "stream",
          "name": "stdout",
          "text": [
            "**********************************************The End***********************************************\n"
          ]
        }
      ],
      "source": [
        "print(\"The End\".center(100, \"*\"))"
      ]
    },
    {
      "cell_type": "code",
      "source": [],
      "metadata": {
        "id": "8ttPceAGx4M9"
      },
      "execution_count": null,
      "outputs": []
    }
  ],
  "metadata": {
    "colab": {
      "provenance": []
    },
    "kernelspec": {
      "display_name": "Python 3",
      "name": "python3"
    },
    "language_info": {
      "name": "python"
    }
  },
  "nbformat": 4,
  "nbformat_minor": 0
}