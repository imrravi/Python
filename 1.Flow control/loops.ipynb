{
  "nbformat": 4,
  "nbformat_minor": 0,
  "metadata": {
    "colab": {
      "provenance": []
    },
    "kernelspec": {
      "name": "python3",
      "display_name": "Python 3"
    },
    "language_info": {
      "name": "python"
    }
  },
  "cells": [
    {
      "cell_type": "markdown",
      "source": [
        "###Title: Mastering Control Structures, Loops, and Operators in Python\n",
        "####Objective:\n",
        "The purpose of this assignment is to enhance your proficiency in Python\n",
        "programming through challenging tasks. You will develop skills in control flow\n",
        "statements (if-elif-else), loops (for, while), nested loops, pattern programming, and\n",
        "more. The assignment also focuses on handling infinite loops, understanding loop\n",
        "control mechanisms (break, continue, pass), and using operators and escape\n",
        "characters. Additionally, tasks will challenge your understanding of input/output\n",
        "operations and type casting."
      ],
      "metadata": {
        "id": "myccwmVnSguW"
      }
    },
    {
      "cell_type": "markdown",
      "source": [
        "#### Task 1: Write a Python program to find the largest of three numbers."
      ],
      "metadata": {
        "id": "ifdJLFUMSuPT"
      }
    },
    {
      "cell_type": "code",
      "source": [
        "# Taking input from users\n",
        "a = int(input(\"Enter the first number: \"))\n",
        "b = int(input(\"Enter the second number: \"))\n",
        "c = int(input(\"Enter the third number: \"))\n",
        "\n",
        "# using if-elif-else to find the largest number.\n",
        "if a>=b and a>=c:\n",
        "  print(\"The largest number is:\",a)\n",
        "elif b>=a and c>=a:\n",
        "  print(\"The largest number is:\",b)\n",
        "else:\n",
        "  print(\"The largest number is:\",c)"
      ],
      "metadata": {
        "colab": {
          "base_uri": "https://localhost:8080/"
        },
        "id": "_jmJjcTgS3na",
        "outputId": "509ab9c4-cdb0-4787-c5c8-2aee035227c8"
      },
      "execution_count": null,
      "outputs": [
        {
          "output_type": "stream",
          "name": "stdout",
          "text": [
            "Enter the first number: 12\n",
            "Enter the second number: 14\n",
            "Enter the third number: 9\n",
            "The largest number is: 9\n"
          ]
        }
      ]
    },
    {
      "cell_type": "markdown",
      "source": [
        "#### Task 2: Create a program that checks if a number is even or odd."
      ],
      "metadata": {
        "id": "8T5jE566VcTt"
      }
    },
    {
      "cell_type": "code",
      "source": [
        "# Taking input from users\n",
        "number = int(input(\"Enter The number: \"))\n",
        "\n",
        "# Using if-else to check even or odd.\n",
        "if number % 2 == 0:\n",
        "  print(\"Number is Even:\", number)\n",
        "else:\n",
        "  print(\"Number is Odd:\", number)\n"
      ],
      "metadata": {
        "colab": {
          "base_uri": "https://localhost:8080/"
        },
        "id": "sbr3khaVVen1",
        "outputId": "8c190005-3de0-4f88-e6ef-c5a61e846267"
      },
      "execution_count": null,
      "outputs": [
        {
          "output_type": "stream",
          "name": "stdout",
          "text": [
            "Enter The number: 9\n",
            "Number is Odd: 9\n"
          ]
        }
      ]
    },
    {
      "cell_type": "markdown",
      "source": [
        "####Task 3: Write a program that prints numbers from 1 to 100 but skips numbers divisible by 7."
      ],
      "metadata": {
        "id": "tCetxkmNW-3f"
      }
    },
    {
      "cell_type": "code",
      "source": [
        "for i in range(1,101):\n",
        "  if i % 7 == 0:\n",
        "    continue  # skip those numbers who divisible by 7\n",
        "  print(i,end=',')"
      ],
      "metadata": {
        "colab": {
          "base_uri": "https://localhost:8080/"
        },
        "id": "84lETwKNXD2l",
        "outputId": "0edd445b-38e2-4183-a778-5b03c550abde"
      },
      "execution_count": null,
      "outputs": [
        {
          "output_type": "stream",
          "name": "stdout",
          "text": [
            "1,2,3,4,5,6,8,9,10,11,12,13,15,16,17,18,19,20,22,23,24,25,26,27,29,30,31,32,33,34,36,37,38,39,40,41,43,44,45,46,47,48,50,51,52,53,54,55,57,58,59,60,61,62,64,65,66,67,68,69,71,72,73,74,75,76,78,79,80,81,82,83,85,86,87,88,89,90,92,93,94,95,96,97,99,100,"
          ]
        }
      ]
    },
    {
      "cell_type": "markdown",
      "source": [
        "#### Task 4: Write a program to print the multiplication table of a given number."
      ],
      "metadata": {
        "id": "lpbXoh0KZHyx"
      }
    },
    {
      "cell_type": "code",
      "source": [
        "number = int(input(\"Enter the number: \"))\n",
        "\n",
        "for i in range(1,11):\n",
        "  print(number, \"X\", i, \"=\", number*i)"
      ],
      "metadata": {
        "colab": {
          "base_uri": "https://localhost:8080/"
        },
        "id": "txFBVDJ3Yabu",
        "outputId": "5b4e1404-0720-42bc-8f10-15847754b7c4"
      },
      "execution_count": null,
      "outputs": [
        {
          "output_type": "stream",
          "name": "stdout",
          "text": [
            "Enter the number: 8\n",
            "8 X 1 = 8\n",
            "8 X 2 = 16\n",
            "8 X 3 = 24\n",
            "8 X 4 = 32\n",
            "8 X 5 = 40\n",
            "8 X 6 = 48\n",
            "8 X 7 = 56\n",
            "8 X 8 = 64\n",
            "8 X 9 = 72\n",
            "8 X 10 = 80\n"
          ]
        }
      ]
    },
    {
      "cell_type": "markdown",
      "source": [
        "####Task 5: Write a program that uses a nested loop to print a right-angled triangle pattern of stars based on user input."
      ],
      "metadata": {
        "id": "X16DqjL7aq02"
      }
    },
    {
      "cell_type": "code",
      "source": [
        "rows = int(input(\"Enter the number of rows:\"))\n",
        "\n",
        "for i in range(1,rows+1):   # outer loop rows\n",
        "  for j in range(i):        #inner loop\n",
        "    print(\"*\",end='')\n",
        "  print()\n"
      ],
      "metadata": {
        "colab": {
          "base_uri": "https://localhost:8080/"
        },
        "id": "wWucvLtfav1v",
        "outputId": "7293c4be-e033-405e-a0b3-ca671342081b"
      },
      "execution_count": null,
      "outputs": [
        {
          "output_type": "stream",
          "name": "stdout",
          "text": [
            "Enter the number of rows:4\n",
            "*\n",
            "**\n",
            "***\n",
            "****\n"
          ]
        }
      ]
    },
    {
      "cell_type": "markdown",
      "source": [
        "####Task 6: Create a Python program that prints the following pattern using nested loops:\n",
        "```\n",
        "1\n",
        "12\n",
        "123\n",
        "1234\n",
        "```"
      ],
      "metadata": {
        "id": "Tbu7WmDzPPXi"
      }
    },
    {
      "cell_type": "code",
      "source": [
        "for i in range(1,5):\n",
        "  for j in range(1,i+1):\n",
        "    print(j,end='')\n",
        "  print()"
      ],
      "metadata": {
        "colab": {
          "base_uri": "https://localhost:8080/"
        },
        "id": "0aGzY24RPuMX",
        "outputId": "2fc5d16e-06d1-44c2-c488-067c5dec5d09"
      },
      "execution_count": null,
      "outputs": [
        {
          "output_type": "stream",
          "name": "stdout",
          "text": [
            "1\n",
            "12\n",
            "123\n",
            "1234\n"
          ]
        }
      ]
    },
    {
      "cell_type": "markdown",
      "source": [
        "#### Task 7: Create a Python program to check if a character entered by the user is a vowel or consonant."
      ],
      "metadata": {
        "id": "wDVTHjAaU2OO"
      }
    },
    {
      "cell_type": "code",
      "source": [
        "char = input(\"Enter the Character: \").lower()\n",
        "\n",
        "if len(char) == 1 and char.isalpha():\n",
        "  if char in 'aeiou':\n",
        "    print(f\"{char} is a vowel.\")\n",
        "  else:\n",
        "    print(f\"{char} is a consonant.\")\n",
        "else:\n",
        "  print(\"Invalid input. Please enter a single alphabet character.\")"
      ],
      "metadata": {
        "colab": {
          "base_uri": "https://localhost:8080/"
        },
        "id": "kXdenubcU5um",
        "outputId": "2555d57e-2618-45d0-9fbd-a4ea4f0f0781"
      },
      "execution_count": null,
      "outputs": [
        {
          "output_type": "stream",
          "name": "stdout",
          "text": [
            "Enter the Character: B\n",
            "b is a consonant.\n"
          ]
        }
      ]
    },
    {
      "cell_type": "markdown",
      "source": [
        "#### Task 8. Write a Python program that generates a diamond pattern of stars For n = 5, the output should look like:\n",
        "```\n",
        "*\n",
        "***\n",
        "*****\n",
        "*******\n",
        "*********\n",
        "*******\n",
        "*****\n",
        "***\n",
        "*\n",
        "```"
      ],
      "metadata": {
        "id": "u5P7O_Z_ZH33"
      }
    },
    {
      "cell_type": "code",
      "source": [
        "n = 5\n",
        "for i in range(1,n+1):\n",
        "  stars = '*' *(2*i-1)\n",
        "  print(stars)\n",
        "\n",
        "for i in range(n-1,0,-1):\n",
        "  stars = '*' *(2*i-1)\n",
        "  print(stars)"
      ],
      "metadata": {
        "colab": {
          "base_uri": "https://localhost:8080/",
          "height": 0
        },
        "id": "HE4UMcf3bXOe",
        "outputId": "9752b279-eddc-493d-e333-be7da447ee87"
      },
      "execution_count": 10,
      "outputs": [
        {
          "output_type": "stream",
          "name": "stdout",
          "text": [
            "*\n",
            "***\n",
            "*****\n",
            "*******\n",
            "*********\n",
            "*******\n",
            "*****\n",
            "***\n",
            "*\n"
          ]
        }
      ]
    },
    {
      "cell_type": "markdown",
      "source": [
        "#### Task 9: Write a Python program to reverse the digits of a given number."
      ],
      "metadata": {
        "id": "1IhSWcNAHsMw"
      }
    },
    {
      "cell_type": "code",
      "source": [
        "number = int(input(\"Enter the number: \"))\n",
        "reverse_no = 0\n",
        "\n",
        "while number > 0:\n",
        "  digit = number % 10\n",
        "  reverse_no = reverse_no * 10 + digit\n",
        "  number = number // 10\n",
        "\n",
        "print(reverse_no)"
      ],
      "metadata": {
        "colab": {
          "base_uri": "https://localhost:8080/",
          "height": 0
        },
        "id": "qgXkvYwlMCOU",
        "outputId": "098e9767-2b1e-43bc-a7f0-ee711afd27e4"
      },
      "execution_count": 6,
      "outputs": [
        {
          "output_type": "stream",
          "name": "stdout",
          "text": [
            "Enter the number: 12345\n",
            "54321\n"
          ]
        }
      ]
    },
    {
      "cell_type": "markdown",
      "source": [
        "#### Task 10. Create a Python program that generates the following pyramid pattern:\n",
        "```\n",
        "1\n",
        "121\n",
        "12321\n",
        "1234321\n",
        "123454321\n",
        "```"
      ],
      "metadata": {
        "id": "-ZYDNVQzVN9-"
      }
    },
    {
      "cell_type": "code",
      "source": [
        "n = 5\n",
        "\n",
        "for i in range(1,n+1):\n",
        "  for j in range(1,i+1):\n",
        "    print(j,end='')\n",
        "\n",
        "  for j in range(i-1,0,-1):\n",
        "    print(j,end='')\n",
        "  print()\n"
      ],
      "metadata": {
        "colab": {
          "base_uri": "https://localhost:8080/",
          "height": 0
        },
        "id": "5OmpPur3VU49",
        "outputId": "d6a63446-224a-4f7a-9d0a-6b6046267951"
      },
      "execution_count": 9,
      "outputs": [
        {
          "output_type": "stream",
          "name": "stdout",
          "text": [
            "1\n",
            "121\n",
            "12321\n",
            "1234321\n",
            "123454321\n"
          ]
        }
      ]
    },
    {
      "cell_type": "code",
      "source": [],
      "metadata": {
        "id": "l6dgJIpSXu1l"
      },
      "execution_count": null,
      "outputs": []
    }
  ]
}