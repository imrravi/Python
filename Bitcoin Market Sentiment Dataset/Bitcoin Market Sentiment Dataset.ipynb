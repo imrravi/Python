{
 "cells": [
  {
   "cell_type": "code",
   "execution_count": 195,
   "id": "f6b36382-d347-4e4f-b69c-fe5e24c8649e",
   "metadata": {},
   "outputs": [],
   "source": [
    "import pandas as pd\n",
    "import numpy as np\n",
    "import matplotlib.pyplot as plt\n",
    "import seaborn as sns\n",
    "from scipy import stats"
   ]
  },
  {
   "cell_type": "code",
   "execution_count": 196,
   "id": "9ef1f6e0-25a4-475d-9250-28378e7db57b",
   "metadata": {},
   "outputs": [
    {
     "data": {
      "text/html": [
       "<div>\n",
       "<style scoped>\n",
       "    .dataframe tbody tr th:only-of-type {\n",
       "        vertical-align: middle;\n",
       "    }\n",
       "\n",
       "    .dataframe tbody tr th {\n",
       "        vertical-align: top;\n",
       "    }\n",
       "\n",
       "    .dataframe thead th {\n",
       "        text-align: right;\n",
       "    }\n",
       "</style>\n",
       "<table border=\"1\" class=\"dataframe\">\n",
       "  <thead>\n",
       "    <tr style=\"text-align: right;\">\n",
       "      <th></th>\n",
       "      <th>Account</th>\n",
       "      <th>Coin</th>\n",
       "      <th>Execution Price</th>\n",
       "      <th>Size Tokens</th>\n",
       "      <th>Size USD</th>\n",
       "      <th>Side</th>\n",
       "      <th>Timestamp IST</th>\n",
       "      <th>Start Position</th>\n",
       "      <th>Direction</th>\n",
       "      <th>Closed PnL</th>\n",
       "      <th>Transaction Hash</th>\n",
       "      <th>Order ID</th>\n",
       "      <th>Crossed</th>\n",
       "      <th>Fee</th>\n",
       "      <th>Trade ID</th>\n",
       "      <th>Timestamp</th>\n",
       "    </tr>\n",
       "  </thead>\n",
       "  <tbody>\n",
       "    <tr>\n",
       "      <th>0</th>\n",
       "      <td>0xae5eacaf9c6b9111fd53034a602c192a04e082ed</td>\n",
       "      <td>@107</td>\n",
       "      <td>7.9769</td>\n",
       "      <td>986.87</td>\n",
       "      <td>7872.16</td>\n",
       "      <td>BUY</td>\n",
       "      <td>02-12-2024 22:50</td>\n",
       "      <td>0.000000</td>\n",
       "      <td>Buy</td>\n",
       "      <td>0.0</td>\n",
       "      <td>0xec09451986a1874e3a980418412fcd0201f500c95bac...</td>\n",
       "      <td>52017706630</td>\n",
       "      <td>True</td>\n",
       "      <td>0.345404</td>\n",
       "      <td>8.950000e+14</td>\n",
       "      <td>1.730000e+12</td>\n",
       "    </tr>\n",
       "    <tr>\n",
       "      <th>1</th>\n",
       "      <td>0xae5eacaf9c6b9111fd53034a602c192a04e082ed</td>\n",
       "      <td>@107</td>\n",
       "      <td>7.9800</td>\n",
       "      <td>16.00</td>\n",
       "      <td>127.68</td>\n",
       "      <td>BUY</td>\n",
       "      <td>02-12-2024 22:50</td>\n",
       "      <td>986.524596</td>\n",
       "      <td>Buy</td>\n",
       "      <td>0.0</td>\n",
       "      <td>0xec09451986a1874e3a980418412fcd0201f500c95bac...</td>\n",
       "      <td>52017706630</td>\n",
       "      <td>True</td>\n",
       "      <td>0.005600</td>\n",
       "      <td>4.430000e+14</td>\n",
       "      <td>1.730000e+12</td>\n",
       "    </tr>\n",
       "    <tr>\n",
       "      <th>2</th>\n",
       "      <td>0xae5eacaf9c6b9111fd53034a602c192a04e082ed</td>\n",
       "      <td>@107</td>\n",
       "      <td>7.9855</td>\n",
       "      <td>144.09</td>\n",
       "      <td>1150.63</td>\n",
       "      <td>BUY</td>\n",
       "      <td>02-12-2024 22:50</td>\n",
       "      <td>1002.518996</td>\n",
       "      <td>Buy</td>\n",
       "      <td>0.0</td>\n",
       "      <td>0xec09451986a1874e3a980418412fcd0201f500c95bac...</td>\n",
       "      <td>52017706630</td>\n",
       "      <td>True</td>\n",
       "      <td>0.050431</td>\n",
       "      <td>6.600000e+14</td>\n",
       "      <td>1.730000e+12</td>\n",
       "    </tr>\n",
       "    <tr>\n",
       "      <th>3</th>\n",
       "      <td>0xae5eacaf9c6b9111fd53034a602c192a04e082ed</td>\n",
       "      <td>@107</td>\n",
       "      <td>7.9874</td>\n",
       "      <td>142.98</td>\n",
       "      <td>1142.04</td>\n",
       "      <td>BUY</td>\n",
       "      <td>02-12-2024 22:50</td>\n",
       "      <td>1146.558564</td>\n",
       "      <td>Buy</td>\n",
       "      <td>0.0</td>\n",
       "      <td>0xec09451986a1874e3a980418412fcd0201f500c95bac...</td>\n",
       "      <td>52017706630</td>\n",
       "      <td>True</td>\n",
       "      <td>0.050043</td>\n",
       "      <td>1.080000e+15</td>\n",
       "      <td>1.730000e+12</td>\n",
       "    </tr>\n",
       "    <tr>\n",
       "      <th>4</th>\n",
       "      <td>0xae5eacaf9c6b9111fd53034a602c192a04e082ed</td>\n",
       "      <td>@107</td>\n",
       "      <td>7.9894</td>\n",
       "      <td>8.73</td>\n",
       "      <td>69.75</td>\n",
       "      <td>BUY</td>\n",
       "      <td>02-12-2024 22:50</td>\n",
       "      <td>1289.488521</td>\n",
       "      <td>Buy</td>\n",
       "      <td>0.0</td>\n",
       "      <td>0xec09451986a1874e3a980418412fcd0201f500c95bac...</td>\n",
       "      <td>52017706630</td>\n",
       "      <td>True</td>\n",
       "      <td>0.003055</td>\n",
       "      <td>1.050000e+15</td>\n",
       "      <td>1.730000e+12</td>\n",
       "    </tr>\n",
       "  </tbody>\n",
       "</table>\n",
       "</div>"
      ],
      "text/plain": [
       "                                      Account  Coin  Execution Price  \\\n",
       "0  0xae5eacaf9c6b9111fd53034a602c192a04e082ed  @107           7.9769   \n",
       "1  0xae5eacaf9c6b9111fd53034a602c192a04e082ed  @107           7.9800   \n",
       "2  0xae5eacaf9c6b9111fd53034a602c192a04e082ed  @107           7.9855   \n",
       "3  0xae5eacaf9c6b9111fd53034a602c192a04e082ed  @107           7.9874   \n",
       "4  0xae5eacaf9c6b9111fd53034a602c192a04e082ed  @107           7.9894   \n",
       "\n",
       "   Size Tokens  Size USD Side     Timestamp IST  Start Position Direction  \\\n",
       "0       986.87   7872.16  BUY  02-12-2024 22:50        0.000000       Buy   \n",
       "1        16.00    127.68  BUY  02-12-2024 22:50      986.524596       Buy   \n",
       "2       144.09   1150.63  BUY  02-12-2024 22:50     1002.518996       Buy   \n",
       "3       142.98   1142.04  BUY  02-12-2024 22:50     1146.558564       Buy   \n",
       "4         8.73     69.75  BUY  02-12-2024 22:50     1289.488521       Buy   \n",
       "\n",
       "   Closed PnL                                   Transaction Hash     Order ID  \\\n",
       "0         0.0  0xec09451986a1874e3a980418412fcd0201f500c95bac...  52017706630   \n",
       "1         0.0  0xec09451986a1874e3a980418412fcd0201f500c95bac...  52017706630   \n",
       "2         0.0  0xec09451986a1874e3a980418412fcd0201f500c95bac...  52017706630   \n",
       "3         0.0  0xec09451986a1874e3a980418412fcd0201f500c95bac...  52017706630   \n",
       "4         0.0  0xec09451986a1874e3a980418412fcd0201f500c95bac...  52017706630   \n",
       "\n",
       "   Crossed       Fee      Trade ID     Timestamp  \n",
       "0     True  0.345404  8.950000e+14  1.730000e+12  \n",
       "1     True  0.005600  4.430000e+14  1.730000e+12  \n",
       "2     True  0.050431  6.600000e+14  1.730000e+12  \n",
       "3     True  0.050043  1.080000e+15  1.730000e+12  \n",
       "4     True  0.003055  1.050000e+15  1.730000e+12  "
      ]
     },
     "execution_count": 196,
     "metadata": {},
     "output_type": "execute_result"
    }
   ],
   "source": [
    "historical_url = \"https://drive.google.com/uc?export=download&id=1IAfLZwu6rJzyWKgBToqwSmmVYU6VbjVs\"\n",
    "fear_url = \"https://drive.google.com/uc?export=download&id=1PgQC0tO8XN-wqkNyghWc_-mnrYv_nhSf\"\n",
    "\n",
    "df1 = pd.read_csv(historical_url)\n",
    "df2 = pd.read_csv(fear_url)\n",
    "df1.head(5)"
   ]
  },
  {
   "cell_type": "code",
   "execution_count": 197,
   "id": "ed70c3e5-1b6a-40d9-996f-8fbf23ccdf3a",
   "metadata": {},
   "outputs": [
    {
     "data": {
      "text/html": [
       "<div>\n",
       "<style scoped>\n",
       "    .dataframe tbody tr th:only-of-type {\n",
       "        vertical-align: middle;\n",
       "    }\n",
       "\n",
       "    .dataframe tbody tr th {\n",
       "        vertical-align: top;\n",
       "    }\n",
       "\n",
       "    .dataframe thead th {\n",
       "        text-align: right;\n",
       "    }\n",
       "</style>\n",
       "<table border=\"1\" class=\"dataframe\">\n",
       "  <thead>\n",
       "    <tr style=\"text-align: right;\">\n",
       "      <th></th>\n",
       "      <th>timestamp</th>\n",
       "      <th>value</th>\n",
       "      <th>classification</th>\n",
       "      <th>date</th>\n",
       "    </tr>\n",
       "  </thead>\n",
       "  <tbody>\n",
       "    <tr>\n",
       "      <th>0</th>\n",
       "      <td>1517463000</td>\n",
       "      <td>30</td>\n",
       "      <td>Fear</td>\n",
       "      <td>2018-02-01</td>\n",
       "    </tr>\n",
       "    <tr>\n",
       "      <th>1</th>\n",
       "      <td>1517549400</td>\n",
       "      <td>15</td>\n",
       "      <td>Extreme Fear</td>\n",
       "      <td>2018-02-02</td>\n",
       "    </tr>\n",
       "    <tr>\n",
       "      <th>2</th>\n",
       "      <td>1517635800</td>\n",
       "      <td>40</td>\n",
       "      <td>Fear</td>\n",
       "      <td>2018-02-03</td>\n",
       "    </tr>\n",
       "    <tr>\n",
       "      <th>3</th>\n",
       "      <td>1517722200</td>\n",
       "      <td>24</td>\n",
       "      <td>Extreme Fear</td>\n",
       "      <td>2018-02-04</td>\n",
       "    </tr>\n",
       "    <tr>\n",
       "      <th>4</th>\n",
       "      <td>1517808600</td>\n",
       "      <td>11</td>\n",
       "      <td>Extreme Fear</td>\n",
       "      <td>2018-02-05</td>\n",
       "    </tr>\n",
       "  </tbody>\n",
       "</table>\n",
       "</div>"
      ],
      "text/plain": [
       "    timestamp  value classification        date\n",
       "0  1517463000     30           Fear  2018-02-01\n",
       "1  1517549400     15   Extreme Fear  2018-02-02\n",
       "2  1517635800     40           Fear  2018-02-03\n",
       "3  1517722200     24   Extreme Fear  2018-02-04\n",
       "4  1517808600     11   Extreme Fear  2018-02-05"
      ]
     },
     "execution_count": 197,
     "metadata": {},
     "output_type": "execute_result"
    }
   ],
   "source": [
    "df2.head(5)"
   ]
  },
  {
   "cell_type": "code",
   "execution_count": 198,
   "id": "5da2a084-4c9a-46c9-a97c-6e54f5a4852c",
   "metadata": {},
   "outputs": [
    {
     "name": "stdout",
     "output_type": "stream",
     "text": [
      "<class 'pandas.core.frame.DataFrame'>\n",
      "RangeIndex: 211224 entries, 0 to 211223\n",
      "Data columns (total 16 columns):\n",
      " #   Column            Non-Null Count   Dtype  \n",
      "---  ------            --------------   -----  \n",
      " 0   Account           211224 non-null  object \n",
      " 1   Coin              211224 non-null  object \n",
      " 2   Execution Price   211224 non-null  float64\n",
      " 3   Size Tokens       211224 non-null  float64\n",
      " 4   Size USD          211224 non-null  float64\n",
      " 5   Side              211224 non-null  object \n",
      " 6   Timestamp IST     211224 non-null  object \n",
      " 7   Start Position    211224 non-null  float64\n",
      " 8   Direction         211224 non-null  object \n",
      " 9   Closed PnL        211224 non-null  float64\n",
      " 10  Transaction Hash  211224 non-null  object \n",
      " 11  Order ID          211224 non-null  int64  \n",
      " 12  Crossed           211224 non-null  bool   \n",
      " 13  Fee               211224 non-null  float64\n",
      " 14  Trade ID          211224 non-null  float64\n",
      " 15  Timestamp         211224 non-null  float64\n",
      "dtypes: bool(1), float64(8), int64(1), object(6)\n",
      "memory usage: 24.4+ MB\n"
     ]
    }
   ],
   "source": [
    "df1.info()"
   ]
  },
  {
   "cell_type": "code",
   "execution_count": 199,
   "id": "76c43a45-1303-4c22-92f7-3b2860dbd509",
   "metadata": {},
   "outputs": [
    {
     "name": "stdout",
     "output_type": "stream",
     "text": [
      "<class 'pandas.core.frame.DataFrame'>\n",
      "RangeIndex: 2644 entries, 0 to 2643\n",
      "Data columns (total 4 columns):\n",
      " #   Column          Non-Null Count  Dtype \n",
      "---  ------          --------------  ----- \n",
      " 0   timestamp       2644 non-null   int64 \n",
      " 1   value           2644 non-null   int64 \n",
      " 2   classification  2644 non-null   object\n",
      " 3   date            2644 non-null   object\n",
      "dtypes: int64(2), object(2)\n",
      "memory usage: 82.8+ KB\n"
     ]
    }
   ],
   "source": [
    "df2.info()"
   ]
  },
  {
   "cell_type": "code",
   "execution_count": 200,
   "id": "7c59a745-e175-4cc2-83dd-d6f92fb4c3e2",
   "metadata": {},
   "outputs": [
    {
     "data": {
      "text/plain": [
       "np.int64(0)"
      ]
     },
     "execution_count": 200,
     "metadata": {},
     "output_type": "execute_result"
    }
   ],
   "source": [
    "df1.duplicated().sum()"
   ]
  },
  {
   "cell_type": "code",
   "execution_count": 201,
   "id": "ac53461b-e100-4f51-bcb7-ecaf53a32ea8",
   "metadata": {},
   "outputs": [
    {
     "data": {
      "text/plain": [
       "np.int64(0)"
      ]
     },
     "execution_count": 201,
     "metadata": {},
     "output_type": "execute_result"
    }
   ],
   "source": [
    "df2.duplicated().sum()"
   ]
  },
  {
   "cell_type": "markdown",
   "id": "7a4d0be7-f086-426b-a203-7a8214104fc0",
   "metadata": {},
   "source": [
    "* There is no missing and null values in both dataset."
   ]
  },
  {
   "cell_type": "code",
   "execution_count": 202,
   "id": "741a5ae3-653c-44c4-a316-98513ec3343c",
   "metadata": {},
   "outputs": [],
   "source": [
    "# Converting all cols name to lower case\n",
    "df1.columns = df1.columns.str.lower()\n",
    "df2.columns = df2.columns.str.lower()"
   ]
  },
  {
   "cell_type": "code",
   "execution_count": 203,
   "id": "a89a99cd-2293-49c8-8406-5a2992d09466",
   "metadata": {},
   "outputs": [],
   "source": [
    "# Clean up column names: replace spaces with underscores for easier access in code\n",
    "df1.columns = [cols.replace(' ','_') for cols in df1.columns]\n",
    "df2.columns = [cols.replace(' ','_')for cols in df2.columns]"
   ]
  },
  {
   "cell_type": "markdown",
   "id": "a8fdcfe5-404c-4c9f-bf07-388f02c39284",
   "metadata": {},
   "source": [
    "#### clean and preparing historical and fear greed dataset"
   ]
  },
  {
   "cell_type": "code",
   "execution_count": 204,
   "id": "27c39516-c791-476a-81c5-0ff0c9afbd00",
   "metadata": {},
   "outputs": [],
   "source": [
    "# Convert the Timestamp IST to a proper datetime object\n",
    "df1['trade_date'] = pd.to_datetime(df1['timestamp_ist'], dayfirst=True).dt.floor('D')\n",
    "df2['date'] = pd.to_datetime(df2['date'])"
   ]
  },
  {
   "cell_type": "code",
   "execution_count": 205,
   "id": "ed46f826-5420-4593-86c8-2ce65613ae3a",
   "metadata": {},
   "outputs": [
    {
     "name": "stdout",
     "output_type": "stream",
     "text": [
      "<class 'pandas.core.frame.DataFrame'>\n",
      "RangeIndex: 211224 entries, 0 to 211223\n",
      "Data columns (total 21 columns):\n",
      " #   Column            Non-Null Count   Dtype         \n",
      "---  ------            --------------   -----         \n",
      " 0   account           211224 non-null  object        \n",
      " 1   coin              211224 non-null  object        \n",
      " 2   execution_price   211224 non-null  float64       \n",
      " 3   size_tokens       211224 non-null  float64       \n",
      " 4   size_usd          211224 non-null  float64       \n",
      " 5   side              211224 non-null  object        \n",
      " 6   timestamp_ist     211224 non-null  object        \n",
      " 7   start_position    211224 non-null  float64       \n",
      " 8   direction         211224 non-null  object        \n",
      " 9   closed_pnl        211224 non-null  float64       \n",
      " 10  transaction_hash  211224 non-null  object        \n",
      " 11  order_id          211224 non-null  int64         \n",
      " 12  crossed           211224 non-null  bool          \n",
      " 13  fee               211224 non-null  float64       \n",
      " 14  trade_id          211224 non-null  float64       \n",
      " 15  timestamp_x       211224 non-null  float64       \n",
      " 16  trade_date        211224 non-null  datetime64[ns]\n",
      " 17  timestamp_y       211218 non-null  float64       \n",
      " 18  value             211218 non-null  float64       \n",
      " 19  classification    211218 non-null  object        \n",
      " 20  date              211218 non-null  datetime64[ns]\n",
      "dtypes: bool(1), datetime64[ns](2), float64(10), int64(1), object(7)\n",
      "memory usage: 32.4+ MB\n"
     ]
    }
   ],
   "source": [
    "# Merging \n",
    "merged_df = pd.merge(df1,df2,how='left',left_on='trade_date',right_on='date')\n",
    "merged_df.info()"
   ]
  },
  {
   "cell_type": "code",
   "execution_count": 206,
   "id": "4cb05212-3569-467b-b51a-9543ead42e4d",
   "metadata": {},
   "outputs": [
    {
     "data": {
      "text/plain": [
       "classification\n",
       "Fear             61837\n",
       "Greed            50303\n",
       "Extreme Greed    39992\n",
       "Neutral          37686\n",
       "Extreme Fear     21400\n",
       "Name: count, dtype: int64"
      ]
     },
     "execution_count": 206,
     "metadata": {},
     "output_type": "execute_result"
    }
   ],
   "source": [
    "merged_df['classification'].value_counts()"
   ]
  },
  {
   "cell_type": "code",
   "execution_count": 207,
   "id": "8b84d3b1-97f7-451f-91eb-42c1512b593b",
   "metadata": {},
   "outputs": [
    {
     "name": "stdout",
     "output_type": "stream",
     "text": [
      "\n",
      "Summary by Sentiment:\n",
      "                       sum   mean  count\n",
      "classification                          \n",
      "Extreme Fear     739110.25  34.54  21400\n",
      "Extreme Greed   2715171.31  67.89  39992\n",
      "Fear            3357155.44  54.29  61837\n",
      "Greed           2150129.27  42.74  50303\n",
      "Neutral         1292920.68  34.31  37686\n"
     ]
    }
   ],
   "source": [
    "print(\"\\nSummary by Sentiment:\")\n",
    "summary = merged_df.groupby('classification')['closed_pnl'].agg(['sum', 'mean', 'count']).round(2)\n",
    "print(summary)"
   ]
  },
  {
   "cell_type": "code",
   "execution_count": 208,
   "id": "ea8b24c3-3777-4ef0-8dfd-c4d252bccf8e",
   "metadata": {},
   "outputs": [],
   "source": [
    "# Group by sentiment classification and calculate key performance metrics\n",
    "performance = merged_df.groupby('classification').agg(total_pnl=('closed_pnl','sum'),\n",
    "                                                      average_pnl_per_trade=('closed_pnl','mean'),\n",
    "                                                      number_of_traders=('closed_pnl','count'),\n",
    "                                                      total_volume_USD=('size_usd','sum'),\n",
    "                                                      win_rate=('closed_pnl',lambda x: (x>0).sum()/len(x)*100)\n",
    "                                                     ).round(2).reset_index()"
   ]
  },
  {
   "cell_type": "code",
   "execution_count": 209,
   "id": "3e91a583-64df-42b7-b479-453c159de47f",
   "metadata": {},
   "outputs": [
    {
     "name": "stdout",
     "output_type": "stream",
     "text": [
      "  classification   total_pnl  average_pnl_per_trade  number_of_traders  \\\n",
      "2           Fear  3357155.44                  54.29              61837   \n",
      "3          Greed  2150129.27                  42.74              50303   \n",
      "1  Extreme Greed  2715171.31                  67.89              39992   \n",
      "4        Neutral  1292920.68                  34.31              37686   \n",
      "0   Extreme Fear   739110.25                  34.54              21400   \n",
      "\n",
      "   total_volume_USD  win_rate  \n",
      "2      4.833248e+08     42.08  \n",
      "3      2.885825e+08     38.48  \n",
      "1      1.244652e+08     46.49  \n",
      "4      1.802421e+08     39.70  \n",
      "0      1.144843e+08     37.06  \n"
     ]
    }
   ],
   "source": [
    "performance = performance.sort_values('number_of_traders',ascending=False)\n",
    "print(performance)"
   ]
  },
  {
   "cell_type": "code",
   "execution_count": 210,
   "id": "717bf218-55f3-41e9-b23b-3219dfacb5b8",
   "metadata": {},
   "outputs": [
    {
     "data": {
      "image/png": "[encoded data removed]",
      "text/plain": [
       "<Figure size 800x500 with 1 Axes>"
      ]
     },
     "metadata": {},
     "output_type": "display_data"
    }
   ],
   "source": [
    "# Displaying profit and loss by sentiment\n",
    "plt.figure(figsize=(8, 5))\n",
    "\n",
    "# Create barplot\n",
    "sns.barplot(data=performance, x='classification', y='total_pnl', hue='classification', dodge=False)\n",
    "plt.title('Total Profit/Loss by Market Sentiment')\n",
    "# Show the plot\n",
    "plt.tight_layout()\n",
    "plt.show()"
   ]
  },
  {
   "cell_type": "markdown",
   "id": "e14154bf-5089-44f6-9b6a-3a429d6d9cc8",
   "metadata": {},
   "source": [
    "#### Most Profitable Sentiment (total_pnl):\n",
    "- **Fear** made the highest **profit (\\$3.36M\\)**, followed by **Extreme Greed (\\$2.72M\\)** and **Greed (\\$2.15M\\)**.\n",
    "- The most money is made when the market is in **Fear**. "
   ]
  },
  {
   "cell_type": "code",
   "execution_count": 211,
   "id": "ce1cd60f-6d5f-4836-8913-e7c75c9b50c5",
   "metadata": {},
   "outputs": [
    {
     "data": {
      "image/png": "[encoded data removed]",
      "text/plain": [
       "<Figure size 800x500 with 1 Axes>"
      ]
     },
     "metadata": {},
     "output_type": "display_data"
    }
   ],
   "source": [
    "# Displaying Average PnL per Trade by Sentiment\n",
    "plt.figure(figsize=(8, 5))\n",
    "sns.barplot(data=performance, x='classification', y='average_pnl_per_trade', hue='classification')\n",
    "plt.title('Average Profit/Loss per by Market Sentiment')\n",
    "plt.tight_layout()\n",
    "plt.show()"
   ]
  },
  {
   "cell_type": "markdown",
   "id": "f01e7cdb-4ec2-4b04-97ca-99a709028e30",
   "metadata": {},
   "source": [
    "#### Most Profitable per Trade average pnl per trade:\n",
    "- **Extreme Greed** has the highest average profit per trade **(\\$67.89\\)**, significantly higher than others.\n",
    "- **Fear** is second **(\\$54.29\\)**, then **Greed (\\$42.74\\)**."
   ]
  },
  {
   "cell_type": "code",
   "execution_count": 212,
   "id": "3bad5447-5988-41de-8612-adf129cdd997",
   "metadata": {},
   "outputs": [
    {
     "data": {
      "image/png": "[encoded data removed]",
      "text/plain": [
       "<Figure size 800x500 with 1 Axes>"
      ]
     },
     "metadata": {},
     "output_type": "display_data"
    }
   ],
   "source": [
    "# Display Trade Activity by Sentiment\n",
    "plt.figure(figsize=(8, 5))\n",
    "sns.barplot(data=performance, x='classification', y='number_of_traders', hue='classification')\n",
    "plt.title('Number of Trades by Market Sentiment')\n",
    "plt.tight_layout()\n",
    "plt.show()"
   ]
  },
  {
   "cell_type": "markdown",
   "id": "743c19bc-eddf-47c6-8b96-041df15774bc",
   "metadata": {},
   "source": [
    "#### Trading Activity Number of Trades:\n",
    "- Fear has the highest trading volume 61,837 trades, followed by Greed 50,303 trades."
   ]
  },
  {
   "cell_type": "code",
   "execution_count": 213,
   "id": "85e70d87-1d0f-4f24-97a4-06935cb8f147",
   "metadata": {},
   "outputs": [
    {
     "data": {
      "image/png": "[encoded data removed]",
      "text/plain": [
       "<Figure size 800x500 with 1 Axes>"
      ]
     },
     "metadata": {},
     "output_type": "display_data"
    }
   ],
   "source": [
    "# Display Win Rate by Sentiment\n",
    "plt.figure(figsize=(8, 5))\n",
    "sns.barplot(data=performance, x='classification', y='win_rate', hue='classification')\n",
    "plt.title('Win Rate by Market Sentiment')\n",
    "plt.tight_layout()\n",
    "plt.show()"
   ]
  },
  {
   "cell_type": "markdown",
   "id": "e2fe64e6-13d5-4995-abff-fa7c534c0b61",
   "metadata": {},
   "source": [
    "#### Win Rate Analysis:\n",
    "- **Extreme Greed** has the highest win rate 46.49%, followed by **Fear** 42.08%.\n",
    "- **Extreme Fear** has the lowest win rate 37.06%."
   ]
  },
  {
   "cell_type": "markdown",
   "id": "18e2ac6a-4cb9-4896-a42f-bf63a8c3ab3e",
   "metadata": {},
   "source": [
    "#### statistical picture"
   ]
  },
  {
   "cell_type": "code",
   "execution_count": 214,
   "id": "16e09232-6265-43d2-98d7-17aef91d2a72",
   "metadata": {},
   "outputs": [],
   "source": [
    "# Extract pnl values for different sentiments \n",
    "extreme_fear_pnl = merged_df.loc[merged_df['classification']== 'Extreme Fear','closed_pnl'].dropna()\n",
    "fear_pnl = merged_df.loc[merged_df['classification']=='Fear','closed_pnl'].dropna()\n",
    "greed_pnl = merged_df.loc[merged_df['classification']== 'Greed','closed_pnl'].dropna()\n",
    "extreme_greed_pnl = merged_df.loc[merged_df['classification']=='Extreme Greed','closed_pnl'].dropna()\n",
    "neutral_pnl = merged_df.loc[merged_df['classification']=='Neutral','closed_pnl'].dropna()"
   ]
  },
  {
   "cell_type": "code",
   "execution_count": 215,
   "id": "dcc940de-c481-4397-b87e-32d2803d5b53",
   "metadata": {},
   "outputs": [
    {
     "name": "stdout",
     "output_type": "stream",
     "text": [
      "T test between extreme fear and greed:\n",
      "T-statistic: -0.890, P-value: 0.3736\n",
      "The difference is not statistically significant\n"
     ]
    }
   ],
   "source": [
    "# Perform t-test between Extreme Fear and greed\n",
    "t_stat,p_value= stats.ttest_ind(extreme_fear_pnl, greed_pnl, equal_var=False)\n",
    "\n",
    "print(f\"T test between extreme fear and greed:\")\n",
    "print(f\"T-statistic: {t_stat:.3f}, P-value: {p_value:.4f}\")\n",
    "if p_value < 0.05:\n",
    "    print(\"The difference is statistically significant (p < 0.05)\")\n",
    "else:\n",
    "    print(\"The difference is not statistically significant\")"
   ]
  },
  {
   "cell_type": "code",
   "execution_count": 216,
   "id": "f2bbf594-9cae-477a-aa73-026ee2a17751",
   "metadata": {},
   "outputs": [
    {
     "name": "stdout",
     "output_type": "stream",
     "text": [
      "Extreme Greed vs Extreme Fear: p-value = 0.0001\n",
      "Extreme Greed vs Fear: p-value = 0.0113\n"
     ]
    }
   ],
   "source": [
    "# Test Extreme Greed vs others (since it had the highest average PnL)\n",
    "t_stat, p_value = stats.ttest_ind(extreme_greed_pnl, extreme_fear_pnl, equal_var=False)\n",
    "print(f\"Extreme Greed vs Extreme Fear: p-value = {p_value:.4f}\")\n",
    "\n",
    "t_stat, p_value = stats.ttest_ind(extreme_greed_pnl, fear_pnl, equal_var=False)\n",
    "print(f\"Extreme Greed vs Fear: p-value = {p_value:.4f}\")"
   ]
  },
  {
   "cell_type": "markdown",
   "id": "dbcbf6a7-376a-44ed-852f-fb19268041bf",
   "metadata": {},
   "source": [
    "#### Output (Statistical Test Results):\n",
    "\n",
    "**Extreme Fear vs Greed**:\n",
    "- The average profit difference is not statistically significant (p = 0.37).\n",
    "- The small difference we see might just be random chance rather than a real performance gap.\n",
    "\n",
    "**Extreme Greed vs Extreme Fear**:\n",
    "- The difference is statistically significant (p = 0.0001).\n",
    "- This is very unlikely to be due to random chance, suggesting Extreme Greed traders perform better.\n",
    "\n",
    "**Extreme Greed vs Fear**:\n",
    "- Significant difference (p = 0.0113).\n",
    "- Again,Extreme Greed traders likely have higher profits."
   ]
  },
  {
   "cell_type": "code",
   "execution_count": null,
   "id": "31fcb09a-37cf-4027-8e4a-4be342b0a53f",
   "metadata": {},
   "outputs": [],
   "source": []
  }
 ],
 "metadata": {
  "kernelspec": {
   "display_name": "Python 3 (ipykernel)",
   "language": "python",
   "name": "python3"
  },
  "language_info": {
   "codemirror_mode": {
    "name": "ipython",
    "version": 3
   },
   "file_extension": ".py",
   "mimetype": "text/x-python",
   "name": "python",
   "nbconvert_exporter": "python",
   "pygments_lexer": "ipython3",
   "version": "3.13.5"
  }
 },
 "nbformat": 4,
 "nbformat_minor": 5
}
