{
 "cells": [
  {
   "cell_type": "markdown",
   "metadata": {
    "id": "kPsAxVb0Ar3o"
   },
   "source": [
    "## Title: Mastering Advanced Python: Tricky and Situational Programming"
   ]
  },
  {
   "cell_type": "markdown",
   "metadata": {
    "id": "0AELbVQJA2fk"
   },
   "source": [
    "**1. Write a function to count the number of vowels and consonants in a given string.**"
   ]
  },
  {
   "cell_type": "code",
   "execution_count": null,
   "metadata": {
    "colab": {
     "base_uri": "https://localhost:8080/"
    },
    "id": "xzlspz9zBBWs",
    "outputId": "1e6f0811-427a-4592-97ff-8d21f17c4048"
   },
   "outputs": [
    {
     "name": "stdout",
     "output_type": "stream",
     "text": [
      "Enter a string:happy nEW year 2025\n",
      "Number of vowels: 4\n",
      "Number of consonants: 8\n"
     ]
    }
   ],
   "source": [
    "def count_vowels_consonants():\n",
    "  text = input(\"Enter a string:\")\n",
    "  vowels = \"aeiouAEIOU\"           #List of all vowels(both lower and upper )\n",
    "  vowel_count = 0\n",
    "  consonant_count = 0\n",
    "\n",
    "  for char in text:      #Loop through each character in the string\n",
    "    # Check if the character is an alphabet (ignores numbers, spaces, etc.)\n",
    "    if char.isalpha():\n",
    "      if char in vowels:\n",
    "        vowel_count += 1\n",
    "      else:\n",
    "        consonant_count += 1\n",
    "\n",
    "  print(\"Number of vowels:\", vowel_count)\n",
    "  print(\"Number of consonants:\", consonant_count)\n",
    "\n",
    "#calling the function\n",
    "count_vowels_consonants()\n",
    "\n"
   ]
  },
  {
   "cell_type": "markdown",
   "metadata": {
    "id": "GNSUCFjy3eyd"
   },
   "source": [
    "**2. Write a function to return the minimum and maximum elements from a tuple.**"
   ]
  },
  {
   "cell_type": "code",
   "execution_count": null,
   "metadata": {
    "colab": {
     "base_uri": "https://localhost:8080/"
    },
    "id": "2X9XfJAz3n80",
    "outputId": "43cd622f-dff8-439c-a774-9b80cf861a27"
   },
   "outputs": [
    {
     "name": "stdout",
     "output_type": "stream",
     "text": [
      "Enter the number seperated by commas:256,299,444,67,79\n",
      "Minimum value: 67\n",
      "Maximum value: 444\n"
     ]
    }
   ],
   "source": [
    "#Function to find min and max in a tuple\n",
    "def find_min_max(my_tuple):\n",
    "  minimum = min(my_tuple)\n",
    "  maximum = max(my_tuple)\n",
    "  # return both values as a tuple\n",
    "  return minimum,maximum\n",
    "\n",
    "\n",
    "# Taking input from users\n",
    "user_input = input(\"Enter the number seperated by commas:\")\n",
    "\n",
    "# Convert input string to tuple of integers\n",
    "user_tuple = tuple(map(int, user_input.split(\",\")))\n",
    "\n",
    "# call the function\n",
    "min_val, max_val = find_min_max(user_tuple)\n",
    "\n",
    "# Result\n",
    "print(\"Minimum value:\", min_val)\n",
    "print(\"Maximum value:\", max_val)\n"
   ]
  },
  {
   "cell_type": "markdown",
   "metadata": {
    "id": "sTHYj1elNhL-"
   },
   "source": [
    "**3. Write code to unpack the first two elements and the rest from a tuple of unknown length.**"
   ]
  },
  {
   "cell_type": "code",
   "execution_count": null,
   "metadata": {
    "colab": {
     "base_uri": "https://localhost:8080/"
    },
    "id": "OqAFk3LHJcQa",
    "outputId": "74e7786a-bdb5-4947-f90c-1d0c0772918a"
   },
   "outputs": [
    {
     "name": "stdout",
     "output_type": "stream",
     "text": [
      "First element: 10\n",
      "Second element: 20\n",
      "Rest of the elements: [30, 40, 50]\n"
     ]
    }
   ],
   "source": [
    "# suppose we have tuple\n",
    "my_tuple = (10,20,30,40,50)\n",
    "\n",
    "# unpack the first two elements and collecting the rest\n",
    "first, second, *rest = my_tuple\n",
    "\n",
    "# Displaying the result\n",
    "print(\"First element:\", first)\n",
    "print(\"Second element:\", second)\n",
    "print(\"Rest of the elements:\", rest)"
   ]
  },
  {
   "cell_type": "markdown",
   "metadata": {
    "id": "Axu4uImVOGBm"
   },
   "source": [
    "**4. Write a function that takes a string and returns the frequency of each word.**"
   ]
  },
  {
   "cell_type": "code",
   "execution_count": 2,
   "metadata": {
    "colab": {
     "base_uri": "https://localhost:8080/"
    },
    "id": "CYSVVTHLPebT",
    "outputId": "f6a4708f-24bc-401c-d146-2ccd119269f2"
   },
   "outputs": [
    {
     "name": "stdin",
     "output_type": "stream",
     "text": [
      "Enter a sentance: Python is fun and Python is powerful\n"
     ]
    },
    {
     "name": "stdout",
     "output_type": "stream",
     "text": [
      "Word frequency: {'python': 2, 'is': 2, 'fun': 1, 'and': 1, 'powerful': 1}\n"
     ]
    }
   ],
   "source": [
    "def word_frequency(text):\n",
    "  words = text.split()   # split the string into words\n",
    "  frequency = {}\n",
    "\n",
    "\n",
    "  for word in words:\n",
    "    word = word.lower()\n",
    "    if word in frequency:\n",
    "      frequency[word] += 1\n",
    "    else:\n",
    "      frequency[word] = 1\n",
    "\n",
    "  return frequency\n",
    "\n",
    "# taking input from the users\n",
    "user_input = input(\"Enter a sentance:\")\n",
    "\n",
    "#call the function\n",
    "result = word_frequency(user_input)\n",
    "\n",
    "\n",
    "# Displaying the result\n",
    "print(\"Word frequency:\", result)"
   ]
  },
  {
   "cell_type": "markdown",
   "metadata": {
    "id": "Er7YnJMcQ-Qo"
   },
   "source": [
    "**5. Write a function to find duplicate elements in a list.**"
   ]
  },
  {
   "cell_type": "code",
   "execution_count": null,
   "metadata": {
    "colab": {
     "base_uri": "https://localhost:8080/"
    },
    "id": "cjwLtfyKRIOx",
    "outputId": "538ea6ca-afb1-4fa7-e506-fb255e607d9f"
   },
   "outputs": [
    {
     "name": "stdout",
     "output_type": "stream",
     "text": [
      "Duplicate elements: [1, 2, 3]\n"
     ]
    }
   ],
   "source": [
    "def find_duplicate(input_list):\n",
    "  seen = set()  #stores unique elements\n",
    "  duplicate = set() #stores element that appear more than once\n",
    "\n",
    "  for item in input_list:\n",
    "    if item in seen:\n",
    "      duplicate.add(item)\n",
    "    else:\n",
    "      seen.add(item)\n",
    "  return list(duplicate)\n",
    "\n",
    "#Predefined input list\n",
    "my_list = [1, 2, 3, 4, 2, 3, 5, 6, 1]\n",
    "\n",
    "#call the function\n",
    "result = find_duplicate(my_list)\n",
    "\n",
    "#show the result\n",
    "print(\"Duplicate elements:\", result)"
   ]
  },
  {
   "cell_type": "markdown",
   "metadata": {
    "id": "9__MPYJkbdfG"
   },
   "source": [
    "**6. Use a filter with a lambda function to extract even numbers from a list.**"
   ]
  },
  {
   "cell_type": "code",
   "execution_count": null,
   "metadata": {
    "colab": {
     "base_uri": "https://localhost:8080/"
    },
    "id": "eaJTKysGleHT",
    "outputId": "07ec2539-9fee-401a-8bc8-1d5bdc22075e"
   },
   "outputs": [
    {
     "name": "stdout",
     "output_type": "stream",
     "text": [
      "[2, 4, 6, 8, 10]\n"
     ]
    }
   ],
   "source": [
    "# Sample list of numbers\n",
    "numbers = [1, 2, 3, 4, 5, 6, 7, 8, 9, 10]\n",
    "\n",
    "# Use filter() with a lambda function to get even numbers\n",
    "even_numbers = list(         #convert the result to a list\n",
    "                    filter(  #Use filter to find matching values\n",
    "                           lambda x: x % 2 == 0, #keep only numbers where x % 2 == 0 (even)\n",
    "                           numbers          ## The list to filter\n",
    "\n",
    "                    )\n",
    "    )\n",
    "print(even_numbers)"
   ]
  },
  {
   "cell_type": "markdown",
   "metadata": {
    "id": "6OFOhr2DrJJB"
   },
   "source": [
    "**7. Create a Python module named mymath.py with functions for addition,\n",
    "subtraction, and multiplication. Import and use it.**"
   ]
  },
  {
   "cell_type": "code",
   "execution_count": 1,
   "metadata": {
    "id": "ZXFaa2oqrl4J"
   },
   "outputs": [
    {
     "name": "stdout",
     "output_type": "stream",
     "text": [
      "5\n",
      "6\n",
      "42\n"
     ]
    }
   ],
   "source": [
    "'''\n",
    "This code for file.\n",
    "def add(a,b):\n",
    "    return a + b\n",
    "\n",
    "def subtract(a,b):\n",
    "    return a-b\n",
    "\n",
    "def multiply(a,b):\n",
    "    return a*b\n",
    "'''\n",
    "\n",
    "\n",
    "import mymath\n",
    "\n",
    "print(mymath.add(2, 3))          \n",
    "print(mymath.subtract(10, 4))    \n",
    "print(mymath.multiply(6, 7))    \n"
   ]
  },
  {
   "cell_type": "markdown",
   "metadata": {
    "id": "Ki36fzKiBun7"
   },
   "source": [
    "**8. Sort a List of Tuples Based on the Second Element**"
   ]
  },
  {
   "cell_type": "code",
   "execution_count": null,
   "metadata": {
    "colab": {
     "base_uri": "https://localhost:8080/"
    },
    "id": "_6zxxWuqEzxf",
    "outputId": "41dce1f1-1b9a-4e63-9883-2cc6cbfb4508"
   },
   "outputs": [
    {
     "name": "stdout",
     "output_type": "stream",
     "text": [
      "[(5, 1), (1, 2), (4, 3), (2, 6)]\n"
     ]
    }
   ],
   "source": [
    "# sample list of tuple\n",
    "tuple_list = [(1, 2), (4, 3), (2, 6), (5, 1)]\n",
    "\n",
    "# Sort based on the second element (index 1 of each tuple)\n",
    "sorted_list = sorted(tuple_list, key=lambda x: x[1])\n",
    "print(sorted_list)"
   ]
  },
  {
   "cell_type": "markdown",
   "metadata": {
    "id": "d-Rt6KZBFx7W"
   },
   "source": [
    "**9. Write a function to find the symmetric difference (elements not common) between two sets.**"
   ]
  },
  {
   "cell_type": "code",
   "execution_count": null,
   "metadata": {
    "colab": {
     "base_uri": "https://localhost:8080/"
    },
    "id": "6KCNzCsBF2dD",
    "outputId": "5fac6d0a-ada5-4a41-ab42-3248d7a3d872"
   },
   "outputs": [
    {
     "name": "stdout",
     "output_type": "stream",
     "text": [
      "Symmetric Difference: {1, 2, 5, 6}\n"
     ]
    }
   ],
   "source": [
    "def symmetric_difference(set1,set2):\n",
    "  return set1.symmetric_difference(set2)\n",
    "\n",
    "#Sample set\n",
    "a = {1, 2, 3, 4}\n",
    "b = {3, 4, 5, 6}\n",
    "\n",
    "result = symmetric_difference(a,b)\n",
    "print(\"Symmetric Difference:\",result)"
   ]
  },
  {
   "cell_type": "markdown",
   "metadata": {
    "id": "8uLVzxGXPest"
   },
   "source": [
    "**10.Write a function that returns a list of prime numbers up to a given number n.**"
   ]
  },
  {
   "cell_type": "code",
   "execution_count": 6,
   "metadata": {
    "colab": {
     "base_uri": "https://localhost:8080/"
    },
    "id": "9s0OM_0yBHHz",
    "outputId": "13e854c0-2c9d-4985-ad29-bc37916df18a"
   },
   "outputs": [
    {
     "name": "stdout",
     "output_type": "stream",
     "text": [
      "Enter a number:20\n",
      "Prime number up to  20 are [2, 3, 5, 7, 11, 13, 17, 19]\n"
     ]
    }
   ],
   "source": [
    "# funtion to check if number is a prime\n",
    "is_prime = lambda x: x > 1 and all(x % i != 0 for i in range(2, int(x**0.5)+1))\n",
    "\n",
    "# Take input from user\n",
    "try:\n",
    "    n = int(input(\"Enter a number:\"))\n",
    "    prime_list = list(filter(is_prime, range(2,n+1)))\n",
    "    print(\"Prime number up to \", n, \"are\", prime_list)\n",
    "\n",
    "except Valueerror:\n",
    "    print(\"Please enter a valid number\")"
   ]
  },
  {
   "cell_type": "code",
   "execution_count": null,
   "metadata": {},
   "outputs": [],
   "source": []
  }
 ],
 "metadata": {
  "colab": {
   "provenance": []
  },
  "kernelspec": {
   "display_name": "Python 3 (ipykernel)",
   "language": "python",
   "name": "python3"
  },
  "language_info": {
   "codemirror_mode": {
    "name": "ipython",
    "version": 3
   },
   "file_extension": ".py",
   "mimetype": "text/x-python",
   "name": "python",
   "nbconvert_exporter": "python",
   "pygments_lexer": "ipython3",
   "version": "3.12.3"
  }
 },
 "nbformat": 4,
 "nbformat_minor": 4
}
