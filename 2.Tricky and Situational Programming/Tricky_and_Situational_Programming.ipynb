{
  "nbformat": 4,
  "nbformat_minor": 0,
  "metadata": {
    "colab": {
      "provenance": []
    },
    "kernelspec": {
      "name": "python3",
      "display_name": "Python 3"
    },
    "language_info": {
      "name": "python"
    }
  },
  "cells": [
    {
      "cell_type": "markdown",
      "source": [
        "###Title: Mastering Advanced Python: Tricky and Situational Programming\n",
        "####Challenges Objective:\n",
        "The objective of this assignment is to strengthen your problem-solving skills and\n",
        "enhance your understanding of core Python concepts such as strings, tuples,\n",
        "dictionaries, sets, lists, functions, lambda expressions, filters, and modules. This\n",
        "exercise aims to challenge your thinking, simulate real-world scenarios, and improve\n",
        "your ability to write efficient, modular, and optimized Python code."
      ],
      "metadata": {
        "id": "o7UjqtBUhDzS"
      }
    },
    {
      "cell_type": "markdown",
      "source": [
        "####1. Write a function to count the number of vowels and consonants in a given string."
      ],
      "metadata": {
        "id": "Hg11JN5Zhfi8"
      }
    },
    {
      "cell_type": "code",
      "source": [
        "def count_vowels_consonant():\n",
        "  text = input(\"Enter the String: \").lower()\n",
        "  vowels = 'aeiou'\n",
        "  vowel_count = 0\n",
        "  consonant_count = 0\n",
        "\n",
        "  for char in text:\n",
        "    if char.isalpha():\n",
        "      if char in vowels:\n",
        "        vowel_count += 1\n",
        "      else:\n",
        "        consonant_count += 1\n",
        "  print(\"Number of Vowels: \",vowel_count)\n",
        "  print(\"Number of Consonants: \",consonant_count)\n",
        "\n",
        "count_vowels_consonant()"
      ],
      "metadata": {
        "colab": {
          "base_uri": "https://localhost:8080/"
        },
        "id": "J8eMjsn2hk4y",
        "outputId": "74e16dbb-762f-48af-e364-89a3dc5f1731"
      },
      "execution_count": null,
      "outputs": [
        {
          "output_type": "stream",
          "name": "stdout",
          "text": [
            "Enter the String: Ravi Kant\n",
            "Number of Vowels:  3\n",
            "Number of Consonants:  5\n"
          ]
        }
      ]
    },
    {
      "cell_type": "markdown",
      "source": [
        "####2. Write a function to return the minimum and maximum elements from a tuple."
      ],
      "metadata": {
        "id": "43mG3xvXo0wo"
      }
    },
    {
      "cell_type": "code",
      "source": [
        "#Function to find min and max in a tuple\n",
        "def min_max(data):\n",
        "  return min(data),max(data)"
      ],
      "metadata": {
        "id": "ihW225Pco5A-"
      },
      "execution_count": null,
      "outputs": []
    },
    {
      "cell_type": "code",
      "source": [
        "my_tuple = (10, 4, 7, 25, 1)\n",
        "# call the function\n",
        "minimum,maximum = min_max(my_tuple)\n",
        "print(\"Minimum:\", minimum)\n",
        "print(\"Maximum:\", maximum)"
      ],
      "metadata": {
        "colab": {
          "base_uri": "https://localhost:8080/"
        },
        "id": "z-sUTcmvrctE",
        "outputId": "f1fabbea-ee80-4a42-bfd8-f51115625672"
      },
      "execution_count": null,
      "outputs": [
        {
          "output_type": "stream",
          "name": "stdout",
          "text": [
            "Minimum: 1\n",
            "Maximum: 25\n"
          ]
        }
      ]
    },
    {
      "cell_type": "markdown",
      "source": [
        "####3. Write code to unpack the first two elements and the rest from a tuple of unknown length."
      ],
      "metadata": {
        "id": "QCpM46KBtThj"
      }
    },
    {
      "cell_type": "code",
      "source": [
        "# suppose we have tuple\n",
        "my_tuple = (10, 4, 7, 25, 1)\n",
        "# unpack the first two elements and collecting the rest\n",
        "a,b,*rest = my_tuple\n",
        "# Displaying the result\n",
        "print(\"First element:\", a)\n",
        "print(\"Second element:\", b)\n",
        "print(\"Rest of the elements:\", rest)"
      ],
      "metadata": {
        "colab": {
          "base_uri": "https://localhost:8080/"
        },
        "id": "NiKk2yVkD2JG",
        "outputId": "6dad551f-aba9-40f9-9db5-ecf8614acb78"
      },
      "execution_count": null,
      "outputs": [
        {
          "output_type": "stream",
          "name": "stdout",
          "text": [
            "First element: 10\n",
            "Second element: 4\n",
            "Rest of the elements: [7, 25, 1]\n"
          ]
        }
      ]
    },
    {
      "cell_type": "markdown",
      "source": [
        "####4. Write a function that takes a string and returns the frequency of each word."
      ],
      "metadata": {
        "id": "t7oLcFOOG5cd"
      }
    },
    {
      "cell_type": "code",
      "source": [
        "def word_frequency(text):\n",
        "  words = text.lower().split()\n",
        "  frequency = {}\n",
        "\n",
        "  for word in words:\n",
        "    frequency[word] = frequency.get(word,0) + 1\n",
        "  return frequency"
      ],
      "metadata": {
        "id": "VRwj2JFCG8GU"
      },
      "execution_count": null,
      "outputs": []
    },
    {
      "cell_type": "code",
      "source": [
        "# taking input from the users\n",
        "user_input = input(\"Enter a sentance:\")\n",
        "\n",
        "#call the function\n",
        "result = word_frequency(user_input)\n",
        "print(\"Word frequency:\", result)"
      ],
      "metadata": {
        "colab": {
          "base_uri": "https://localhost:8080/"
        },
        "id": "0yPSWtL3KvVN",
        "outputId": "c67f81ca-7452-4447-919b-35aeee31e166"
      },
      "execution_count": null,
      "outputs": [
        {
          "output_type": "stream",
          "name": "stdout",
          "text": [
            "Enter a sentance:This is a test. This is a simple test\n",
            "Word frequency: {'this': 2, 'is': 2, 'a': 2, 'test.': 1, 'simple': 1, 'test': 1}\n"
          ]
        }
      ]
    },
    {
      "cell_type": "markdown",
      "source": [
        "####5. Write a function to find duplicate elements in a list."
      ],
      "metadata": {
        "id": "ZlbZIcEJLwrN"
      }
    },
    {
      "cell_type": "code",
      "source": [
        "def find_duplicate(lst):\n",
        "  seen = set()\n",
        "  duplicates = set()\n",
        "\n",
        "  for item in lst:\n",
        "    if item in seen:\n",
        "      duplicates.add(item)\n",
        "    else:\n",
        "      seen.add(item)\n",
        "  return list(duplicates)"
      ],
      "metadata": {
        "id": "mNUhasumL3Pb"
      },
      "execution_count": null,
      "outputs": []
    },
    {
      "cell_type": "code",
      "source": [
        "my_list = [1, 2, 3, 2, 4, 5, 1, 6, 3, 3]\n",
        "print(\"Duplicates:\", find_duplicate(my_list))"
      ],
      "metadata": {
        "colab": {
          "base_uri": "https://localhost:8080/"
        },
        "id": "czC8FV4tN7W9",
        "outputId": "2fd3865e-cbd1-4705-c5ee-ad248af15538"
      },
      "execution_count": null,
      "outputs": [
        {
          "output_type": "stream",
          "name": "stdout",
          "text": [
            "Duplicates: [1, 2, 3]\n"
          ]
        }
      ]
    },
    {
      "cell_type": "markdown",
      "source": [
        "####6. Use a filter with a lambda function to extract even numbers from a list."
      ],
      "metadata": {
        "id": "4K0O6IVQRE7-"
      }
    },
    {
      "cell_type": "code",
      "source": [
        "# Sample list of numbers\n",
        "numbers = [1, 2, 3, 4, 5, 6, 7, 8, 9, 10]\n",
        "\n",
        "even_number = list(filter(lambda x: x % 2 == 0,numbers))\n",
        "print(\"Even numbers:\", even_number)"
      ],
      "metadata": {
        "colab": {
          "base_uri": "https://localhost:8080/"
        },
        "id": "gXLgbGlaRHoH",
        "outputId": "c7c969b3-6a84-462e-bd18-cb222e9fa584"
      },
      "execution_count": null,
      "outputs": [
        {
          "output_type": "stream",
          "name": "stdout",
          "text": [
            "Even numbers: [2, 4, 6, 8, 10]\n"
          ]
        }
      ]
    },
    {
      "cell_type": "markdown",
      "source": [
        "####7. Create a Python module named mymath.py with functions for addition, subtraction, and multiplication. Import and use it."
      ],
      "metadata": {
        "id": "heoUUSaGWB5J"
      }
    },
    {
      "cell_type": "code",
      "source": [
        "# Create and save the module as a Python file\n",
        "with open(\"mymath.py\", \"w\") as f:\n",
        "    f.write(\"\"\"\n",
        "def addition(a, b):\n",
        "    return a + b\n",
        "\n",
        "def subtraction(a, b):\n",
        "    return a - b\n",
        "\n",
        "def multiplication(a, b):\n",
        "    return a * b\n",
        "\"\"\")\n"
      ],
      "metadata": {
        "id": "9p-F6obSWEkw"
      },
      "execution_count": null,
      "outputs": []
    },
    {
      "cell_type": "code",
      "source": [
        "import mymath\n",
        "\n",
        "# Using the functions\n",
        "x = 10\n",
        "y = 5\n",
        "\n",
        "print(\"Addition:\", mymath.addition(x, y))\n",
        "print(\"Subtraction:\", mymath.subtraction(x, y))\n",
        "print(\"Multiplication:\", mymath.multiplication(x, y))\n"
      ],
      "metadata": {
        "colab": {
          "base_uri": "https://localhost:8080/"
        },
        "id": "y9SYe0FjWqhc",
        "outputId": "c737bc9f-02ee-40af-969f-514b199c163d"
      },
      "execution_count": null,
      "outputs": [
        {
          "output_type": "stream",
          "name": "stdout",
          "text": [
            "Addition: 15\n",
            "Subtraction: 5\n",
            "Multiplication: 50\n"
          ]
        }
      ]
    },
    {
      "cell_type": "markdown",
      "source": [
        "#### 8. Sort a List of Tuples Based on the Second Element"
      ],
      "metadata": {
        "id": "1vU0JR7eYvPb"
      }
    },
    {
      "cell_type": "code",
      "source": [
        "# sample list of tuple\n",
        "tuple_list = [(1, 2), (4, 3), (2, 6), (5, 1)]\n",
        "\n",
        "# Sort based on the second element (index 1 of each tuple)\n",
        "sorted_list = sorted(tuple_list, key = lambda x:x[1])\n",
        "print(sorted_list)"
      ],
      "metadata": {
        "colab": {
          "base_uri": "https://localhost:8080/"
        },
        "id": "wvV_V-8yYx2B",
        "outputId": "200e14d5-6250-4ce7-e13d-743d3fb77663"
      },
      "execution_count": null,
      "outputs": [
        {
          "output_type": "stream",
          "name": "stdout",
          "text": [
            "[(5, 1), (1, 2), (4, 3), (2, 6)]\n"
          ]
        }
      ]
    },
    {
      "cell_type": "markdown",
      "source": [
        "####9. Write a function to find the symmetric difference (elements not common) between two sets."
      ],
      "metadata": {
        "id": "wn3x605GdBim"
      }
    },
    {
      "cell_type": "code",
      "source": [
        "def symmetric_diff(set1,set2):\n",
        "  return set1.symmetric_difference(set2)\n",
        "\n",
        "#Sample set\n",
        "a = {1, 2, 3, 4}\n",
        "b = {3, 4, 5, 6}\n",
        "\n",
        "result = symmetric_diff(a,b)\n",
        "print(\"Symmetric Difference:\",result)"
      ],
      "metadata": {
        "colab": {
          "base_uri": "https://localhost:8080/"
        },
        "id": "uRWUGNwBdEaY",
        "outputId": "f6b88135-c446-4f78-fe39-e4f78331e84d"
      },
      "execution_count": null,
      "outputs": [
        {
          "output_type": "stream",
          "name": "stdout",
          "text": [
            "Symmetric Difference: {1, 2, 5, 6}\n"
          ]
        }
      ]
    },
    {
      "cell_type": "markdown",
      "source": [
        "####10.Write a function that returns a list of prime numbers up to a given number n."
      ],
      "metadata": {
        "id": "wi9a9ZnFgZPX"
      }
    },
    {
      "cell_type": "code",
      "source": [
        "def prime_num(n):\n",
        "  primes = []\n",
        "  for num in range(2,n+1):\n",
        "    for i in range(2,num):\n",
        "      if num % 2 == 0:\n",
        "        break\n",
        "    else:\n",
        "      primes.append(num)\n",
        "  return primes"
      ],
      "metadata": {
        "id": "eC5gcTp4gcEK"
      },
      "execution_count": null,
      "outputs": []
    },
    {
      "cell_type": "code",
      "source": [
        "print(prime_num(20))"
      ],
      "metadata": {
        "colab": {
          "base_uri": "https://localhost:8080/"
        },
        "id": "aONFec1OjvpX",
        "outputId": "ba0fd0d9-6885-4c18-a789-5bd637cd6717"
      },
      "execution_count": null,
      "outputs": [
        {
          "output_type": "stream",
          "name": "stdout",
          "text": [
            "[2, 3, 5, 7, 9, 11, 13, 15, 17, 19]\n"
          ]
        }
      ]
    },
    {
      "cell_type": "code",
      "source": [],
      "metadata": {
        "id": "NocPp6lqj6a3"
      },
      "execution_count": null,
      "outputs": []
    }
  ]
}